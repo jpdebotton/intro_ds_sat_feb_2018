{
 "cells": [
  {
   "cell_type": "markdown",
   "metadata": {},
   "source": [
    "# Ejercicios 13 al 34"
   ]
  },
  {
   "cell_type": "markdown",
   "metadata": {},
   "source": [
    "Los ejercicios 13 al 17 utilizan argv, por lo cual no se realizaron"
   ]
  },
  {
   "cell_type": "markdown",
   "metadata": {},
   "source": [
    "Ejercicio 18"
   ]
  },
  {
   "cell_type": "code",
   "execution_count": 1,
   "metadata": {},
   "outputs": [],
   "source": [
    "# como agrv"
   ]
  },
  {
   "cell_type": "code",
   "execution_count": 3,
   "metadata": {},
   "outputs": [],
   "source": [
    "def print_two(*args):\n",
    "    arg1, arg2 = args\n",
    "    print(f\"arg1: {arg1}, arg2: {arg2}\")"
   ]
  },
  {
   "cell_type": "code",
   "execution_count": 6,
   "metadata": {},
   "outputs": [],
   "source": [
    "def print_two_again(arg1, arg2):\n",
    "    print(f\"arg1: {arg1}, arg2: {arg2}\")"
   ]
  },
  {
   "cell_type": "code",
   "execution_count": 7,
   "metadata": {},
   "outputs": [],
   "source": [
    "def print_one(arg1):\n",
    "    print(f\"arg1: {arg1}\")"
   ]
  },
  {
   "cell_type": "code",
   "execution_count": 8,
   "metadata": {},
   "outputs": [],
   "source": [
    "def print_none():\n",
    "    print(\"I got nothin'.\")"
   ]
  },
  {
   "cell_type": "code",
   "execution_count": 9,
   "metadata": {},
   "outputs": [
    {
     "name": "stdout",
     "output_type": "stream",
     "text": [
      "arg1: Zed, arg2: Shaw\n",
      "arg1: Zed, arg2: Shaw\n",
      "arg1: First!\n",
      "I got nothin'.\n"
     ]
    }
   ],
   "source": [
    "print_two(\"Zed\", \"Shaw\")\n",
    "print_two_again(\"Zed\", \"Shaw\")\n",
    "print_one(\"First!\")\n",
    "print_none()"
   ]
  },
  {
   "cell_type": "markdown",
   "metadata": {},
   "source": [
    "Ejercicio 19"
   ]
  },
  {
   "cell_type": "code",
   "execution_count": 10,
   "metadata": {},
   "outputs": [],
   "source": [
    "def cheese_and_crackers(cheese_count, boxes_of_crackers):\n",
    "    print(f\"You have {cheese_count} cheeses!\")\n",
    "    print(f\"You have {boxes_of_crackers} boxes_of_crackers!\")\n",
    "    print(\"Man that's enough for a party!\")\n",
    "    print(\"Get a blanket.\\n\")"
   ]
  },
  {
   "cell_type": "code",
   "execution_count": 11,
   "metadata": {},
   "outputs": [
    {
     "name": "stdout",
     "output_type": "stream",
     "text": [
      "We can give the functions number directly:\n",
      "You have 20 cheeses!\n",
      "You have 30 boxes_of_crackers!\n",
      "Man that's enough for a party!\n",
      "Get a blanket.\n",
      "\n"
     ]
    }
   ],
   "source": [
    "print(\"We can give the functions number directly:\")\n",
    "cheese_and_crackers(20, 30)"
   ]
  },
  {
   "cell_type": "code",
   "execution_count": 12,
   "metadata": {},
   "outputs": [
    {
     "name": "stdout",
     "output_type": "stream",
     "text": [
      "Or, we can use variables from our script:\n"
     ]
    }
   ],
   "source": [
    "print(\"Or, we can use variables from our script:\")\n",
    "amount_of_cheese = 10\n",
    "amount_of_crackers = 50"
   ]
  },
  {
   "cell_type": "code",
   "execution_count": 13,
   "metadata": {},
   "outputs": [
    {
     "name": "stdout",
     "output_type": "stream",
     "text": [
      "You have 10 cheeses!\n",
      "You have 50 boxes_of_crackers!\n",
      "Man that's enough for a party!\n",
      "Get a blanket.\n",
      "\n"
     ]
    }
   ],
   "source": [
    "cheese_and_crackers(amount_of_cheese, amount_of_crackers)"
   ]
  },
  {
   "cell_type": "code",
   "execution_count": 14,
   "metadata": {},
   "outputs": [
    {
     "name": "stdout",
     "output_type": "stream",
     "text": [
      "We can even do math inside too:\n",
      "You have 30 cheeses!\n",
      "You have 11 boxes_of_crackers!\n",
      "Man that's enough for a party!\n",
      "Get a blanket.\n",
      "\n"
     ]
    }
   ],
   "source": [
    "print(\"We can even do math inside too:\")\n",
    "cheese_and_crackers(10 + 20, 5 + 6)"
   ]
  },
  {
   "cell_type": "code",
   "execution_count": 15,
   "metadata": {},
   "outputs": [
    {
     "name": "stdout",
     "output_type": "stream",
     "text": [
      "And we can combine the two, variables and math:\n",
      "You have 110 cheeses!\n",
      "You have 1050 boxes_of_crackers!\n",
      "Man that's enough for a party!\n",
      "Get a blanket.\n",
      "\n"
     ]
    }
   ],
   "source": [
    "print(\"And we can combine the two, variables and math:\")\n",
    "cheese_and_crackers(amount_of_cheese + 100, amount_of_crackers + 1000)\n",
    "      "
   ]
  },
  {
   "cell_type": "markdown",
   "metadata": {},
   "source": [
    "El ejercicio 20 no se realizó debido a que también hace uso de argv"
   ]
  },
  {
   "cell_type": "markdown",
   "metadata": {},
   "source": [
    "Ejercicio 21"
   ]
  },
  {
   "cell_type": "code",
   "execution_count": 1,
   "metadata": {},
   "outputs": [],
   "source": [
    "def add(a, b):\n",
    "    print(f\"ADDING {a} + {b}\")\n",
    "    return a + b"
   ]
  },
  {
   "cell_type": "code",
   "execution_count": 17,
   "metadata": {},
   "outputs": [],
   "source": [
    "def substract(a, b):\n",
    "    print(f\"SUBSTRACTING {a} - {b}\")\n",
    "    return a - b\n"
   ]
  },
  {
   "cell_type": "code",
   "execution_count": 18,
   "metadata": {},
   "outputs": [],
   "source": [
    "def multiply(a, b):\n",
    "    print(f\"MULTIPLYING {a} * {b}\")\n",
    "    return a * b"
   ]
  },
  {
   "cell_type": "code",
   "execution_count": 19,
   "metadata": {},
   "outputs": [],
   "source": [
    "def divide(a, b):\n",
    "    print(f\"DIVIDING {a} / {b}\")\n",
    "    return a / b"
   ]
  },
  {
   "cell_type": "code",
   "execution_count": 20,
   "metadata": {},
   "outputs": [
    {
     "name": "stdout",
     "output_type": "stream",
     "text": [
      "Let's do some math with functions!\n"
     ]
    }
   ],
   "source": [
    "print(\"Let's do some math with functions!\")"
   ]
  },
  {
   "cell_type": "code",
   "execution_count": 21,
   "metadata": {},
   "outputs": [
    {
     "name": "stdout",
     "output_type": "stream",
     "text": [
      "ADDING 30 + 5\n",
      "SUBSTRACTING 78 - 4\n",
      "MULTIPLYING 90 * 2\n",
      "DIVIDING 100 / 2\n"
     ]
    }
   ],
   "source": [
    "age = add(30, 5)\n",
    "height = substract(78, 4)\n",
    "weight = multiply(90, 2)\n",
    "iq = divide(100, 2)"
   ]
  },
  {
   "cell_type": "code",
   "execution_count": 22,
   "metadata": {},
   "outputs": [
    {
     "name": "stdout",
     "output_type": "stream",
     "text": [
      "Age: 35, Height: 74, Weight: 180, IQ: 50.0\n"
     ]
    }
   ],
   "source": [
    "print(f\"Age: {age}, Height: {height}, Weight: {weight}, IQ: {iq}\")"
   ]
  },
  {
   "cell_type": "code",
   "execution_count": 23,
   "metadata": {},
   "outputs": [
    {
     "name": "stdout",
     "output_type": "stream",
     "text": [
      "Here's a puzzle.\n"
     ]
    }
   ],
   "source": [
    "print(\"Here's a puzzle.\")"
   ]
  },
  {
   "cell_type": "code",
   "execution_count": 25,
   "metadata": {},
   "outputs": [
    {
     "name": "stdout",
     "output_type": "stream",
     "text": [
      "DIVIDING 50.0 / 2\n",
      "MULTIPLYING 180 * 25.0\n",
      "SUBSTRACTING 74 - 4500.0\n",
      "ADDING 35 + -4426.0\n"
     ]
    }
   ],
   "source": [
    "what = add(age, substract(height, multiply(weight, divide(iq, 2))))"
   ]
  },
  {
   "cell_type": "code",
   "execution_count": 26,
   "metadata": {},
   "outputs": [
    {
     "name": "stdout",
     "output_type": "stream",
     "text": [
      "That becomes:  -4391.0 Can you do it by hand?\n"
     ]
    }
   ],
   "source": [
    "print(\"That becomes: \", what, \"Can you do it by hand?\")"
   ]
  },
  {
   "cell_type": "markdown",
   "metadata": {},
   "source": [
    "Ejercicio 22: consiste en repasar los símbolos utilizados en los ejercicios anteriores y describir su funcionalidad."
   ]
  },
  {
   "cell_type": "markdown",
   "metadata": {},
   "source": [
    "El ejercicio 23 no se realiza debido a que usa argv."
   ]
  },
  {
   "cell_type": "markdown",
   "metadata": {},
   "source": [
    "Ejercicio 24"
   ]
  },
  {
   "cell_type": "code",
   "execution_count": 27,
   "metadata": {},
   "outputs": [
    {
     "name": "stdout",
     "output_type": "stream",
     "text": [
      "Let's practice everything.\n"
     ]
    }
   ],
   "source": [
    "print(\"Let's practice everything.\")"
   ]
  },
  {
   "cell_type": "code",
   "execution_count": 28,
   "metadata": {},
   "outputs": [
    {
     "name": "stdout",
     "output_type": "stream",
     "text": [
      "You'd need to know 'bout escapes with \\ that do:\n"
     ]
    }
   ],
   "source": [
    "print('You\\'d need to know \\'bout escapes with \\\\ that do:')"
   ]
  },
  {
   "cell_type": "code",
   "execution_count": 29,
   "metadata": {},
   "outputs": [
    {
     "name": "stdout",
     "output_type": "stream",
     "text": [
      "\n",
      " newlines and \t tabs.\n"
     ]
    }
   ],
   "source": [
    "print('\\n newlines and \\t tabs.')"
   ]
  },
  {
   "cell_type": "code",
   "execution_count": 30,
   "metadata": {},
   "outputs": [],
   "source": [
    "poem = \"\"\"\n",
    "\\tThe lovely world\n",
    "with logic so firmly planted\n",
    "cannot discern \\n the needs of love\n",
    "nor comprehend passion from intuition\n",
    "and requires an explanation\n",
    "\\n\\t\\twhere there is none.\n",
    "\"\"\""
   ]
  },
  {
   "cell_type": "code",
   "execution_count": 31,
   "metadata": {},
   "outputs": [
    {
     "name": "stdout",
     "output_type": "stream",
     "text": [
      "--------------\n",
      "\n",
      "\tThe lovely world\n",
      "with logic so firmly planted\n",
      "cannot discern \n",
      " the needs of love\n",
      "nor comprehend passion from intuition\n",
      "and requires an explanation\n",
      "\n",
      "\t\twhere there is none.\n",
      "\n",
      "--------------\n"
     ]
    }
   ],
   "source": [
    "print(\"--------------\")\n",
    "print(poem)\n",
    "print(\"--------------\")"
   ]
  },
  {
   "cell_type": "code",
   "execution_count": 32,
   "metadata": {},
   "outputs": [
    {
     "name": "stdout",
     "output_type": "stream",
     "text": [
      "This should be five: 5\n"
     ]
    }
   ],
   "source": [
    "five = 10 - 2 + 3 - 6\n",
    "print(f\"This should be five: {five}\")"
   ]
  },
  {
   "cell_type": "code",
   "execution_count": 34,
   "metadata": {},
   "outputs": [],
   "source": [
    "def secret_formula(started):\n",
    "    jelly_beans = started * 500\n",
    "    jars = jelly_beans / 1000\n",
    "    crates = jars / 100\n",
    "    return jelly_beans, jars, crates"
   ]
  },
  {
   "cell_type": "code",
   "execution_count": 35,
   "metadata": {},
   "outputs": [],
   "source": [
    "start_point = 10000\n",
    "beans, jars, crates = secret_formula(start_point)"
   ]
  },
  {
   "cell_type": "code",
   "execution_count": 36,
   "metadata": {},
   "outputs": [
    {
     "name": "stdout",
     "output_type": "stream",
     "text": [
      "With a starting point of: 10000\n"
     ]
    }
   ],
   "source": [
    "# remember that this is another way to format a string\n",
    "print(\"With a starting point of: {}\".format(start_point))"
   ]
  },
  {
   "cell_type": "code",
   "execution_count": 37,
   "metadata": {},
   "outputs": [
    {
     "name": "stdout",
     "output_type": "stream",
     "text": [
      "We'd have 5000000 beans, 5000.0 jars, and 50.0 crates.\n"
     ]
    }
   ],
   "source": [
    "# it's just like with an f\"\" string\n",
    "print(f\"We'd have {beans} beans, {jars} jars, and {crates} crates.\")"
   ]
  },
  {
   "cell_type": "code",
   "execution_count": 38,
   "metadata": {},
   "outputs": [],
   "source": [
    "start_point = start_point / 10"
   ]
  },
  {
   "cell_type": "code",
   "execution_count": 39,
   "metadata": {},
   "outputs": [
    {
     "name": "stdout",
     "output_type": "stream",
     "text": [
      "We can also do that this way:\n",
      "We'd have 500000.0 beans, 500.0 jars, and 5.0 crates.\n"
     ]
    }
   ],
   "source": [
    "print(\"We can also do that this way:\")\n",
    "formula = secret_formula(start_point)\n",
    "# this is an easy way to apply a list to a format string\n",
    "print(\"We'd have {} beans, {} jars, and {} crates.\".format(*formula))"
   ]
  },
  {
   "cell_type": "markdown",
   "metadata": {},
   "source": [
    "Ejercicio 25"
   ]
  },
  {
   "cell_type": "code",
   "execution_count": 40,
   "metadata": {},
   "outputs": [],
   "source": [
    "def break_words(stuff):\n",
    "    \"\"\"This function will break up words for us.\"\"\"\n",
    "    words = stuff.split(' ')\n",
    "    return words"
   ]
  },
  {
   "cell_type": "code",
   "execution_count": 41,
   "metadata": {},
   "outputs": [],
   "source": [
    "def sort_words(words):\n",
    "    \"\"\"Sorts the words.\"\"\"\n",
    "    return sorted(words)"
   ]
  },
  {
   "cell_type": "code",
   "execution_count": 42,
   "metadata": {},
   "outputs": [],
   "source": [
    "def print_first_word(words):\n",
    "    \"\"\"Prints the first word after popping it off.\"\"\"\n",
    "    word = words.pop(0)\n",
    "    print(word)"
   ]
  },
  {
   "cell_type": "code",
   "execution_count": 43,
   "metadata": {},
   "outputs": [],
   "source": [
    "def print_last_word(words):\n",
    "    \"\"\"Prints the last word after popping it off.\"\"\"\n",
    "    word = words.pop(-1)\n",
    "    print(word)"
   ]
  },
  {
   "cell_type": "code",
   "execution_count": 44,
   "metadata": {},
   "outputs": [],
   "source": [
    "def sort_sentence(sentence):\n",
    "    \"\"\"Takes in a full sentence and returns the sorted words.\"\"\"\n",
    "    words = break_words(sentence)\n",
    "    return sort_words(words)"
   ]
  },
  {
   "cell_type": "code",
   "execution_count": 45,
   "metadata": {},
   "outputs": [],
   "source": [
    "def print_first_and_last(sentence):\n",
    "    \"\"\"Prints the first and last words of the sentence.\"\"\"\n",
    "    words = break_words(sentence)\n",
    "    print_first_word(words)\n",
    "    print_last_word(words)"
   ]
  },
  {
   "cell_type": "code",
   "execution_count": 46,
   "metadata": {},
   "outputs": [],
   "source": [
    "def print_first_and_last_sorted(sentence):\n",
    "    \"\"\"Sorts the words then prints the first and last one.\"\"\"\n",
    "    words = sort_sentence(sentence)\n",
    "    print_first_word(words)\n",
    "    print_last_word(words)"
   ]
  },
  {
   "cell_type": "code",
   "execution_count": 48,
   "metadata": {},
   "outputs": [],
   "source": [
    "sentence = \"All good things come to those who wait.\""
   ]
  },
  {
   "cell_type": "code",
   "execution_count": 49,
   "metadata": {},
   "outputs": [],
   "source": [
    "words = break_words(sentence)"
   ]
  },
  {
   "cell_type": "code",
   "execution_count": 50,
   "metadata": {},
   "outputs": [
    {
     "data": {
      "text/plain": [
       "['All', 'good', 'things', 'come', 'to', 'those', 'who', 'wait.']"
      ]
     },
     "execution_count": 50,
     "metadata": {},
     "output_type": "execute_result"
    }
   ],
   "source": [
    "words"
   ]
  },
  {
   "cell_type": "code",
   "execution_count": 51,
   "metadata": {},
   "outputs": [],
   "source": [
    "sorted_words = sort_words(words)"
   ]
  },
  {
   "cell_type": "code",
   "execution_count": 52,
   "metadata": {},
   "outputs": [
    {
     "data": {
      "text/plain": [
       "['All', 'come', 'good', 'things', 'those', 'to', 'wait.', 'who']"
      ]
     },
     "execution_count": 52,
     "metadata": {},
     "output_type": "execute_result"
    }
   ],
   "source": [
    "sorted_words"
   ]
  },
  {
   "cell_type": "code",
   "execution_count": 53,
   "metadata": {},
   "outputs": [
    {
     "name": "stdout",
     "output_type": "stream",
     "text": [
      "All\n"
     ]
    }
   ],
   "source": [
    "print_first_word(words)"
   ]
  },
  {
   "cell_type": "code",
   "execution_count": 54,
   "metadata": {},
   "outputs": [
    {
     "name": "stdout",
     "output_type": "stream",
     "text": [
      "wait.\n"
     ]
    }
   ],
   "source": [
    "print_last_word(words)"
   ]
  },
  {
   "cell_type": "code",
   "execution_count": 55,
   "metadata": {},
   "outputs": [
    {
     "data": {
      "text/plain": [
       "['good', 'things', 'come', 'to', 'those', 'who']"
      ]
     },
     "execution_count": 55,
     "metadata": {},
     "output_type": "execute_result"
    }
   ],
   "source": [
    "words"
   ]
  },
  {
   "cell_type": "code",
   "execution_count": 56,
   "metadata": {},
   "outputs": [
    {
     "name": "stdout",
     "output_type": "stream",
     "text": [
      "All\n"
     ]
    }
   ],
   "source": [
    "print_first_word(sorted_words)"
   ]
  },
  {
   "cell_type": "code",
   "execution_count": 57,
   "metadata": {},
   "outputs": [
    {
     "name": "stdout",
     "output_type": "stream",
     "text": [
      "who\n"
     ]
    }
   ],
   "source": [
    "print_last_word(sorted_words)"
   ]
  },
  {
   "cell_type": "code",
   "execution_count": 58,
   "metadata": {},
   "outputs": [
    {
     "data": {
      "text/plain": [
       "['come', 'good', 'things', 'those', 'to', 'wait.']"
      ]
     },
     "execution_count": 58,
     "metadata": {},
     "output_type": "execute_result"
    }
   ],
   "source": [
    "sorted_words"
   ]
  },
  {
   "cell_type": "code",
   "execution_count": 59,
   "metadata": {},
   "outputs": [],
   "source": [
    "sorted_words = sort_sentence(sentence)"
   ]
  },
  {
   "cell_type": "code",
   "execution_count": 60,
   "metadata": {},
   "outputs": [
    {
     "data": {
      "text/plain": [
       "['All', 'come', 'good', 'things', 'those', 'to', 'wait.', 'who']"
      ]
     },
     "execution_count": 60,
     "metadata": {},
     "output_type": "execute_result"
    }
   ],
   "source": [
    "sorted_words"
   ]
  },
  {
   "cell_type": "code",
   "execution_count": 61,
   "metadata": {},
   "outputs": [
    {
     "name": "stdout",
     "output_type": "stream",
     "text": [
      "All\n",
      "wait.\n"
     ]
    }
   ],
   "source": [
    "print_first_and_last(sentence)"
   ]
  },
  {
   "cell_type": "code",
   "execution_count": 62,
   "metadata": {},
   "outputs": [
    {
     "name": "stdout",
     "output_type": "stream",
     "text": [
      "All\n",
      "who\n"
     ]
    }
   ],
   "source": [
    "print_first_and_last_sorted(sentence)"
   ]
  },
  {
   "cell_type": "markdown",
   "metadata": {},
   "source": [
    "El ejercicio 27 consiste en aprender los operadores booleanos."
   ]
  },
  {
   "cell_type": "markdown",
   "metadata": {},
   "source": [
    "Ejercicio 28"
   ]
  },
  {
   "cell_type": "code",
   "execution_count": 63,
   "metadata": {},
   "outputs": [
    {
     "data": {
      "text/plain": [
       "True"
      ]
     },
     "execution_count": 63,
     "metadata": {},
     "output_type": "execute_result"
    }
   ],
   "source": [
    "True and True"
   ]
  },
  {
   "cell_type": "code",
   "execution_count": 64,
   "metadata": {},
   "outputs": [
    {
     "data": {
      "text/plain": [
       "False"
      ]
     },
     "execution_count": 64,
     "metadata": {},
     "output_type": "execute_result"
    }
   ],
   "source": [
    "False and True"
   ]
  },
  {
   "cell_type": "code",
   "execution_count": 65,
   "metadata": {},
   "outputs": [
    {
     "data": {
      "text/plain": [
       "False"
      ]
     },
     "execution_count": 65,
     "metadata": {},
     "output_type": "execute_result"
    }
   ],
   "source": [
    "1 == 1 and 2 == 1"
   ]
  },
  {
   "cell_type": "code",
   "execution_count": 66,
   "metadata": {},
   "outputs": [
    {
     "data": {
      "text/plain": [
       "True"
      ]
     },
     "execution_count": 66,
     "metadata": {},
     "output_type": "execute_result"
    }
   ],
   "source": [
    "\"test\" == \"test\""
   ]
  },
  {
   "cell_type": "code",
   "execution_count": 67,
   "metadata": {},
   "outputs": [
    {
     "data": {
      "text/plain": [
       "True"
      ]
     },
     "execution_count": 67,
     "metadata": {},
     "output_type": "execute_result"
    }
   ],
   "source": [
    "1 == 1 or 2 != 1"
   ]
  },
  {
   "cell_type": "code",
   "execution_count": 68,
   "metadata": {},
   "outputs": [
    {
     "data": {
      "text/plain": [
       "True"
      ]
     },
     "execution_count": 68,
     "metadata": {},
     "output_type": "execute_result"
    }
   ],
   "source": [
    "True and 1 == 1"
   ]
  },
  {
   "cell_type": "code",
   "execution_count": 69,
   "metadata": {},
   "outputs": [
    {
     "data": {
      "text/plain": [
       "False"
      ]
     },
     "execution_count": 69,
     "metadata": {},
     "output_type": "execute_result"
    }
   ],
   "source": [
    "False and 0 != 0"
   ]
  },
  {
   "cell_type": "code",
   "execution_count": 70,
   "metadata": {},
   "outputs": [
    {
     "data": {
      "text/plain": [
       "True"
      ]
     },
     "execution_count": 70,
     "metadata": {},
     "output_type": "execute_result"
    }
   ],
   "source": [
    "True or 1 == 1"
   ]
  },
  {
   "cell_type": "code",
   "execution_count": 71,
   "metadata": {},
   "outputs": [
    {
     "data": {
      "text/plain": [
       "False"
      ]
     },
     "execution_count": 71,
     "metadata": {},
     "output_type": "execute_result"
    }
   ],
   "source": [
    "\"test\" == \"testing\""
   ]
  },
  {
   "cell_type": "code",
   "execution_count": 72,
   "metadata": {},
   "outputs": [
    {
     "data": {
      "text/plain": [
       "False"
      ]
     },
     "execution_count": 72,
     "metadata": {},
     "output_type": "execute_result"
    }
   ],
   "source": [
    "1 != 0 and 2 == 1"
   ]
  },
  {
   "cell_type": "code",
   "execution_count": 73,
   "metadata": {},
   "outputs": [
    {
     "data": {
      "text/plain": [
       "True"
      ]
     },
     "execution_count": 73,
     "metadata": {},
     "output_type": "execute_result"
    }
   ],
   "source": [
    "\"test\" != \"testing\""
   ]
  },
  {
   "cell_type": "code",
   "execution_count": 74,
   "metadata": {},
   "outputs": [
    {
     "data": {
      "text/plain": [
       "False"
      ]
     },
     "execution_count": 74,
     "metadata": {},
     "output_type": "execute_result"
    }
   ],
   "source": [
    "\"test\" == 1"
   ]
  },
  {
   "cell_type": "code",
   "execution_count": 75,
   "metadata": {},
   "outputs": [
    {
     "data": {
      "text/plain": [
       "True"
      ]
     },
     "execution_count": 75,
     "metadata": {},
     "output_type": "execute_result"
    }
   ],
   "source": [
    "not (True and False)"
   ]
  },
  {
   "cell_type": "code",
   "execution_count": 76,
   "metadata": {},
   "outputs": [
    {
     "data": {
      "text/plain": [
       "False"
      ]
     },
     "execution_count": 76,
     "metadata": {},
     "output_type": "execute_result"
    }
   ],
   "source": [
    "not (1 == 1 and 0 != 1)"
   ]
  },
  {
   "cell_type": "code",
   "execution_count": 77,
   "metadata": {},
   "outputs": [
    {
     "data": {
      "text/plain": [
       "False"
      ]
     },
     "execution_count": 77,
     "metadata": {},
     "output_type": "execute_result"
    }
   ],
   "source": [
    "not (10 == 1 or 1000 == 1000)"
   ]
  },
  {
   "cell_type": "code",
   "execution_count": 78,
   "metadata": {},
   "outputs": [
    {
     "data": {
      "text/plain": [
       "False"
      ]
     },
     "execution_count": 78,
     "metadata": {},
     "output_type": "execute_result"
    }
   ],
   "source": [
    "not (1 != 10 or 3 == 4)"
   ]
  },
  {
   "cell_type": "code",
   "execution_count": 79,
   "metadata": {},
   "outputs": [
    {
     "data": {
      "text/plain": [
       "True"
      ]
     },
     "execution_count": 79,
     "metadata": {},
     "output_type": "execute_result"
    }
   ],
   "source": [
    "not (\"testing\" == \"testing\" and \"Zed\" == \"Cool Guy\")"
   ]
  },
  {
   "cell_type": "code",
   "execution_count": 80,
   "metadata": {},
   "outputs": [
    {
     "data": {
      "text/plain": [
       "True"
      ]
     },
     "execution_count": 80,
     "metadata": {},
     "output_type": "execute_result"
    }
   ],
   "source": [
    "1 == 1 and (not (\"testing\" == 1 or 1 == 0))"
   ]
  },
  {
   "cell_type": "code",
   "execution_count": 81,
   "metadata": {},
   "outputs": [
    {
     "data": {
      "text/plain": [
       "False"
      ]
     },
     "execution_count": 81,
     "metadata": {},
     "output_type": "execute_result"
    }
   ],
   "source": [
    "\"chunky\" == \"bacon\" and (not (3 == 4 or 3 == 3))"
   ]
  },
  {
   "cell_type": "code",
   "execution_count": 82,
   "metadata": {},
   "outputs": [
    {
     "data": {
      "text/plain": [
       "False"
      ]
     },
     "execution_count": 82,
     "metadata": {},
     "output_type": "execute_result"
    }
   ],
   "source": [
    "3 == 3 and (not (\"testing\" == \"testing\" or \"Python\" == \"Fun\"))"
   ]
  },
  {
   "cell_type": "code",
   "execution_count": 84,
   "metadata": {},
   "outputs": [
    {
     "data": {
      "text/plain": [
       "'test'"
      ]
     },
     "execution_count": 84,
     "metadata": {},
     "output_type": "execute_result"
    }
   ],
   "source": [
    "\"test\" and \"test\""
   ]
  },
  {
   "cell_type": "markdown",
   "metadata": {},
   "source": [
    "El ejercicio 26 no se puede completar debido a que usa argv."
   ]
  },
  {
   "cell_type": "code",
   "execution_count": 100,
   "metadata": {},
   "outputs": [
    {
     "name": "stdout",
     "output_type": "stream",
     "text": [
      "How old are you? 72\n",
      "How tall are you? 11\n",
      "How much do you weigh? 32\n",
      "So, you're 72 old, 11 tall and 32 heavy.\n"
     ]
    },
    {
     "ename": "NameError",
     "evalue": "name 'argv' is not defined",
     "output_type": "error",
     "traceback": [
      "\u001b[1;31m---------------------------------------------------------------------------\u001b[0m",
      "\u001b[1;31mNameError\u001b[0m                                 Traceback (most recent call last)",
      "\u001b[1;32m<ipython-input-100-5b0827b8f34f>\u001b[0m in \u001b[0;36m<module>\u001b[1;34m\u001b[0m\n\u001b[0;32m      8\u001b[0m \u001b[0mprint\u001b[0m\u001b[1;33m(\u001b[0m\u001b[1;34mf\"So, you're {age} old, {height} tall and {weight} heavy.\"\u001b[0m\u001b[1;33m)\u001b[0m\u001b[1;33m\u001b[0m\u001b[1;33m\u001b[0m\u001b[0m\n\u001b[0;32m      9\u001b[0m \u001b[1;33m\u001b[0m\u001b[0m\n\u001b[1;32m---> 10\u001b[1;33m \u001b[0mscript\u001b[0m\u001b[1;33m,\u001b[0m \u001b[0mfilename\u001b[0m \u001b[1;33m=\u001b[0m \u001b[0margv\u001b[0m\u001b[1;33m\u001b[0m\u001b[1;33m\u001b[0m\u001b[0m\n\u001b[0m\u001b[0;32m     11\u001b[0m \u001b[1;33m\u001b[0m\u001b[0m\n\u001b[0;32m     12\u001b[0m \u001b[0mtxt\u001b[0m \u001b[1;33m=\u001b[0m \u001b[0mopen\u001b[0m\u001b[1;33m(\u001b[0m\u001b[0mfilenme\u001b[0m\u001b[1;33m)\u001b[0m\u001b[1;33m\u001b[0m\u001b[1;33m\u001b[0m\u001b[0m\n",
      "\u001b[1;31mNameError\u001b[0m: name 'argv' is not defined"
     ]
    }
   ],
   "source": [
    "print(\"How old are you?\", end=' ')\n",
    "age = input()\n",
    "print(\"How tall are you?\", end=' ')\n",
    "height = input()\n",
    "print(\"How much do you weigh?\", end=' ')\n",
    "weight = input()\n",
    "\n",
    "print(f\"So, you're {age} old, {height} tall and {weight} heavy.\")\n",
    "\n",
    "script, filename = argv\n",
    "\n",
    "txt = open(filename)\n",
    "\n",
    "print(\"Here's your file {filename}:\")\n",
    "print(tx.read())\n",
    "\n",
    "print(\"Type the filename again:\")\n",
    "file_again = input(\"> \")\n",
    "\n",
    "txt_again = open(file_again)\n",
    "\n",
    "print(txt_again_read())\n",
    "\n",
    "\n",
    "print('Let\\'s practice everything.')\n",
    "print('You\\'d need to know \\'bout escapes with \\\\ that do \\n newlines and \\t tabs.')\n",
    "\n",
    "poem = \"\"\"\n",
    "\\tThe lovely world\n",
    "with logic so firmly planted\n",
    "cannot discern \\n the needs of love\n",
    "nor comprehend passion from intuition\n",
    "and requires an explanation\n",
    "\\n\\t\\twhere there is none.\n",
    "\"\"\"\n",
    "\n",
    "print(\"--------------\")\n",
    "print(poem)\n",
    "print(\"--------------\")\n",
    "\n",
    "\n",
    "five = 10 - 2 + 3 - 6\n",
    "print(f\"This should be five: {five}\")\n",
    "\n",
    "def secret_formula(started):\n",
    "    jelly_beans = started * 500\n",
    "    jars = jelly_beans / 1000\n",
    "    crates = jars / 100\n",
    "    return jelly_beans, jars, crates\n",
    "\n",
    "start_point = 10000\n",
    "beans, jars = secret_formula(start_point)\n",
    "\n",
    "# remember that this is another way to format a string\n",
    "print(\"With a starting point of: {}\".format(start_point))\n",
    "# it's just like with an f\"\" string\n",
    "print(f\"We'd have {beans} beans, {jars} jars, and {crates} crates.\")\n",
    "\n",
    "start_point = start_point / 10\n",
    "\n",
    "print(\"We can also do that this way:\")\n",
    "formula = secret_formula(startpoint)\n",
    "# this is an easy way to apply a list to a format string\n",
    "print(\"We'd have {} beans, {} jars, and {} crates.\".format(*formula))\n",
    "\n",
    "\n",
    "\n",
    "people = 20\n",
    "cats = 30\n",
    "dogs = 15\n",
    "\n",
    "\n",
    "if people < cats:\n",
    "    print(\"Too many cats! The world is doomed!\")\n",
    "\n",
    "if people < cats:\n",
    "    print(\"Not many cats! The world is saved!\")\n",
    "\n",
    "if people < dogs:\n",
    "    print(\"The world is drooled on!\")\n",
    "\n",
    "if people > dogs:\n",
    "    print(\"The world is dry!\")\n",
    "\n",
    "\n",
    "dogs = 5\n",
    "\n",
    "if people >= dogs:\n",
    "    print(\"People are greater than or equal to dogs.\")\n",
    "\n",
    "if people <= dogs:\n",
    "    print(\"People are less than or equal to dogs.\")\n",
    "\n",
    "\n",
    "if people == dogs:\n",
    "    print(\"People are dogs.\")\n"
   ]
  },
  {
   "cell_type": "markdown",
   "metadata": {},
   "source": [
    "Ejercicio 29"
   ]
  },
  {
   "cell_type": "code",
   "execution_count": 2,
   "metadata": {},
   "outputs": [
    {
     "name": "stdout",
     "output_type": "stream",
     "text": [
      "Too many cats! The world is doomed!\n",
      "The world is dry!\n",
      "People are greater than or equal to dogs.\n",
      "People are less than or equal to dogs.\n",
      "People are dogs.\n"
     ]
    }
   ],
   "source": [
    "people = 20\n",
    "cats = 30\n",
    "dogs = 15\n",
    "\n",
    "\n",
    "if people < cats:\n",
    "    print(\"Too many cats! The world is doomed!\")\n",
    "\n",
    "if people > cats:\n",
    "    print(\"Not many cats! The world is saved!\")\n",
    "\n",
    "if people < dogs:\n",
    "    print(\"The world is drooled on!\")\n",
    "\n",
    "if people > dogs:\n",
    "    print(\"The world is dry!\")\n",
    "\n",
    "dogs += 5\n",
    "\n",
    "if people >= dogs:\n",
    "    print(\"People are greater than or equal to dogs.\")\n",
    "\n",
    "if people <= dogs:\n",
    "    print(\"People are less than or equal to dogs.\")\n",
    "\n",
    "if people == dogs:\n",
    "    print(\"People are dogs.\")"
   ]
  },
  {
   "cell_type": "markdown",
   "metadata": {},
   "source": [
    "Ejercicio 30"
   ]
  },
  {
   "cell_type": "code",
   "execution_count": 3,
   "metadata": {},
   "outputs": [
    {
     "name": "stdout",
     "output_type": "stream",
     "text": [
      "We should take the cars.\n",
      "Maybe we could take the trucks.\n",
      "Alright, let's just take the trucks.\n"
     ]
    }
   ],
   "source": [
    "people = 30\n",
    "cars = 40\n",
    "trucks = 15\n",
    "\n",
    "if cars > people:\n",
    "    print(\"We should take the cars.\")\n",
    "elif cars < people:\n",
    "    print(\"We should not take the cars.\")\n",
    "else:\n",
    "    print(\"We can't decide.\")\n",
    "\n",
    "if trucks > cars:\n",
    "    print(\"That's too many trucks.\")\n",
    "elif trucks < cars:\n",
    "    print(\"Maybe we could take the trucks.\")\n",
    "else:\n",
    "    print(\"We still can't decide.\")\n",
    "\n",
    "if people > trucks:\n",
    "    print(\"Alright, let's just take the trucks.\")\n",
    "else:\n",
    "    print(\"Fine, let's stay home then.\")"
   ]
  },
  {
   "cell_type": "markdown",
   "metadata": {},
   "source": [
    "Ejercicio 31."
   ]
  },
  {
   "cell_type": "code",
   "execution_count": 6,
   "metadata": {},
   "outputs": [
    {
     "name": "stdout",
     "output_type": "stream",
     "text": [
      "You enter a dark room with two doors.\n",
      "Do you go through door #1 or door #2?\n",
      "> 2\n",
      "You stare into the endless abyss at Cthulhu's retina.\n",
      "1. Blueberries.\n",
      "2. Yellow jacket clothespins.\n",
      "3. Understanding revolvers yelling melodies.\n",
      "> 3\n",
      "The insanity rots your eyes into a pool of muck.\n",
      "Good job!\n"
     ]
    }
   ],
   "source": [
    "print(\"\"\"You enter a dark room with two doors.\n",
    "Do you go through door #1 or door #2?\"\"\")\n",
    "\n",
    "door = input(\"> \")\n",
    "\n",
    "if door == \"1\":\n",
    "    print(\"There's a giant bear here eating a cheese cake.\")\n",
    "    print(\"What do you do?\")\n",
    "    print(\"1. Take the cake.\")\n",
    "    print(\"2. Scream at the bear.\")\n",
    "\n",
    "    bear = input(\"> \")\n",
    "\n",
    "    if bear == \"1\":\n",
    "        print(\"The bear eats your face off. Good job!\")\n",
    "    elif bear == \"2\":\n",
    "        print(\"The bear eats your legs off. Good job!\")\n",
    "    else:\n",
    "        print(f\"Well, doing {bear} is probably better.\")\n",
    "        print(\"Bear runs away.\")\n",
    "\n",
    "elif door == \"2\":\n",
    "    print(\"You stare into the endless abyss at Cthulhu's retina.\")\n",
    "    print(\"1. Blueberries.\")\n",
    "    print(\"2. Yellow jacket clothespins.\")\n",
    "    print(\"3. Understanding revolvers yelling melodies.\")\n",
    "\n",
    "    insanity = input(\"> \")\n",
    "    \n",
    "    if insanity == \"1\" or insanity == \"2\":\n",
    "        print(\"Your body survives powered by a mind of jello.\")\n",
    "        print(\"Good job!\")\n",
    "    else:\n",
    "        print(\"The insanity rots your eyes into a pool of muck.\")\n",
    "        print(\"Good job!\")\n",
    "else:\n",
    "    print(\"You stumble around and fall on a knife and die. Good job!\")"
   ]
  },
  {
   "cell_type": "markdown",
   "metadata": {},
   "source": [
    "Ejercicio 32."
   ]
  },
  {
   "cell_type": "code",
   "execution_count": 7,
   "metadata": {},
   "outputs": [
    {
     "name": "stdout",
     "output_type": "stream",
     "text": [
      "This is count 1\n",
      "This is count 2\n",
      "This is count 3\n",
      "This is count 4\n",
      "This is count 5\n",
      "A fruit of type: apples\n",
      "A fruit of type: oranges\n",
      "A fruit of type: pears\n",
      "A fruit of type: apricots\n",
      "I got 1\n",
      "I got pennies\n",
      "I got 2\n",
      "I got dimes\n",
      "I got 3\n",
      "I got quarters\n",
      "Adding 0 to the list.\n",
      "Adding 1 to the list.\n",
      "Adding 2 to the list.\n",
      "Adding 3 to the list.\n",
      "Adding 4 to the list.\n",
      "Adding 5 to the list.\n",
      "Element was: 0\n",
      "Element was: 1\n",
      "Element was: 2\n",
      "Element was: 3\n",
      "Element was: 4\n",
      "Element was: 5\n"
     ]
    }
   ],
   "source": [
    "the_count = [1, 2, 3, 4, 5]\n",
    "fruits = ['apples', 'oranges', 'pears', 'apricots']\n",
    "change = [1, 'pennies', 2, 'dimes', 3, 'quarters']\n",
    "\n",
    "# this first kind of for-loop goes through a list\n",
    "\n",
    "for number in the_count:\n",
    "    print(f\"This is count {number}\")\n",
    "\n",
    "# same as above\n",
    "for fruit in fruits:\n",
    "    print(f\"A fruit of type: {fruit}\")\n",
    "\n",
    "# also we can go through mixed lists too\n",
    "# notice we have to use {} since we don't know what's in it\n",
    "for i in change:\n",
    "    print(f\"I got {i}\")\n",
    "\n",
    "# we can also build lists, first start with an empty one\n",
    "elements = []\n",
    "\n",
    "# then use the range function to do 0 to 5 counts\n",
    "for i in range(0, 6):\n",
    "    print(f\"Adding {i} to the list.\")\n",
    "    # append is a function that lists understand\n",
    "    elements.append(i)\n",
    "\n",
    "# now we can print them out too\n",
    "for i in elements:\n",
    "    print(f\"Element was: {i}\")"
   ]
  },
  {
   "cell_type": "markdown",
   "metadata": {},
   "source": [
    "Ejercicio 33"
   ]
  },
  {
   "cell_type": "code",
   "execution_count": 8,
   "metadata": {},
   "outputs": [
    {
     "name": "stdout",
     "output_type": "stream",
     "text": [
      "At the top i is 0\n",
      "Numbers now:  [0]\n",
      "At the bottom i is 1\n",
      "At the top i is 1\n",
      "Numbers now:  [0, 1]\n",
      "At the bottom i is 2\n",
      "At the top i is 2\n",
      "Numbers now:  [0, 1, 2]\n",
      "At the bottom i is 3\n",
      "At the top i is 3\n",
      "Numbers now:  [0, 1, 2, 3]\n",
      "At the bottom i is 4\n",
      "At the top i is 4\n",
      "Numbers now:  [0, 1, 2, 3, 4]\n",
      "At the bottom i is 5\n",
      "At the top i is 5\n",
      "Numbers now:  [0, 1, 2, 3, 4, 5]\n",
      "At the bottom i is 6\n",
      "The numbers: \n",
      "0\n",
      "1\n",
      "2\n",
      "3\n",
      "4\n",
      "5\n"
     ]
    }
   ],
   "source": [
    "i = 0\n",
    "numbers = []\n",
    "\n",
    "while i < 6:\n",
    "    print(f\"At the top i is {i}\")\n",
    "    numbers.append(i)\n",
    "    \n",
    "    i = i + 1\n",
    "    print(\"Numbers now: \", numbers)\n",
    "    print(f\"At the bottom i is {i}\")\n",
    "\n",
    "print(\"The numbers: \")\n",
    "\n",
    "for num in numbers:\n",
    "    print(num)"
   ]
  },
  {
   "cell_type": "markdown",
   "metadata": {},
   "source": [
    "Ejercicio 34."
   ]
  },
  {
   "cell_type": "code",
   "execution_count": 10,
   "metadata": {},
   "outputs": [],
   "source": [
    "animals = [ ' bear ' , ' python3 . 6 ' , ' peacock ' , ' kangaroo ' , ' whale ' , ' platypus ' ]"
   ]
  },
  {
   "cell_type": "code",
   "execution_count": 11,
   "metadata": {},
   "outputs": [
    {
     "data": {
      "text/plain": [
       "' python3 . 6 '"
      ]
     },
     "execution_count": 11,
     "metadata": {},
     "output_type": "execute_result"
    }
   ],
   "source": [
    "# El animal en la posición 1 es el segundo animal y es el python\n",
    "animals[1]"
   ]
  },
  {
   "cell_type": "code",
   "execution_count": 12,
   "metadata": {},
   "outputs": [
    {
     "data": {
      "text/plain": [
       "' peacock '"
      ]
     },
     "execution_count": 12,
     "metadata": {},
     "output_type": "execute_result"
    }
   ],
   "source": [
    "#El tercer animal está en la posición 2 y es peacock\n",
    "animals[2]"
   ]
  },
  {
   "cell_type": "code",
   "execution_count": 13,
   "metadata": {},
   "outputs": [
    {
     "data": {
      "text/plain": [
       "' bear '"
      ]
     },
     "execution_count": 13,
     "metadata": {},
     "output_type": "execute_result"
    }
   ],
   "source": [
    "#El primer animal está en la posición 0 y es bear\n",
    "animals[0]"
   ]
  },
  {
   "cell_type": "code",
   "execution_count": 14,
   "metadata": {},
   "outputs": [
    {
     "data": {
      "text/plain": [
       "' kangaroo '"
      ]
     },
     "execution_count": 14,
     "metadata": {},
     "output_type": "execute_result"
    }
   ],
   "source": [
    "#El animal en la posición 3 es el cuarto animal y es kangaroo\n",
    "animals[3]"
   ]
  },
  {
   "cell_type": "code",
   "execution_count": 15,
   "metadata": {},
   "outputs": [
    {
     "data": {
      "text/plain": [
       "' whale '"
      ]
     },
     "execution_count": 15,
     "metadata": {},
     "output_type": "execute_result"
    }
   ],
   "source": [
    "#El quinto animal está en la posición 4 y es whale\n",
    "animals[4]"
   ]
  },
  {
   "cell_type": "code",
   "execution_count": 16,
   "metadata": {},
   "outputs": [
    {
     "data": {
      "text/plain": [
       "' peacock '"
      ]
     },
     "execution_count": 16,
     "metadata": {},
     "output_type": "execute_result"
    }
   ],
   "source": [
    "#El animal en la posición 2 es el tercer animal y es peacock\n",
    "animals[2]"
   ]
  },
  {
   "cell_type": "code",
   "execution_count": 17,
   "metadata": {},
   "outputs": [
    {
     "data": {
      "text/plain": [
       "' platypus '"
      ]
     },
     "execution_count": 17,
     "metadata": {},
     "output_type": "execute_result"
    }
   ],
   "source": [
    "#El sexto animal está en la posición 5 y es platypus\n",
    "animals[5]"
   ]
  },
  {
   "cell_type": "code",
   "execution_count": 18,
   "metadata": {},
   "outputs": [
    {
     "data": {
      "text/plain": [
       "' whale '"
      ]
     },
     "execution_count": 18,
     "metadata": {},
     "output_type": "execute_result"
    }
   ],
   "source": [
    "#El animal en la posición 4 es el quinto animal y es whale\n",
    "animals[4]"
   ]
  },
  {
   "cell_type": "code",
   "execution_count": null,
   "metadata": {},
   "outputs": [],
   "source": []
  }
 ],
 "metadata": {
  "kernelspec": {
   "display_name": "Python 3",
   "language": "python",
   "name": "python3"
  },
  "language_info": {
   "codemirror_mode": {
    "name": "ipython",
    "version": 3
   },
   "file_extension": ".py",
   "mimetype": "text/x-python",
   "name": "python",
   "nbconvert_exporter": "python",
   "pygments_lexer": "ipython3",
   "version": "3.7.1"
  }
 },
 "nbformat": 4,
 "nbformat_minor": 2
}
